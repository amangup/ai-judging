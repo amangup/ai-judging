{
 "cells": [
  {
   "cell_type": "code",
   "execution_count": 1,
   "id": "265e6391-aea5-415b-8320-43b772103007",
   "metadata": {},
   "outputs": [],
   "source": [
    "from datasets import load_dataset, Dataset\n",
    "from transformers import AutoTokenizer\n",
    "from vllm import LLM, SamplingParams"
   ]
  },
  {
   "cell_type": "code",
   "execution_count": 2,
   "id": "da0db212-3630-4e5d-af44-2765ce4acaf8",
   "metadata": {},
   "outputs": [
    {
     "data": {
      "application/vnd.jupyter.widget-view+json": {
       "model_id": "de43826de537419cb5bb40fd5a342106",
       "version_major": 2,
       "version_minor": 0
      },
      "text/plain": [
       "README.md:   0%|          | 0.00/905 [00:00<?, ?B/s]"
      ]
     },
     "metadata": {},
     "output_type": "display_data"
    }
   ],
   "source": [
    "dataset = load_dataset(\"iamtarun/python_code_instructions_18k_alpaca\", split=\"train\", streaming=True, trust_remote_code=True)"
   ]
  },
  {
   "cell_type": "code",
   "execution_count": 3,
   "id": "82a4528b-f476-4826-846d-74b82498b813",
   "metadata": {},
   "outputs": [],
   "source": [
    "NUM_SAMPLES = 50"
   ]
  },
  {
   "cell_type": "code",
   "execution_count": 4,
   "id": "6db17761-5f3e-40d9-9cec-548025539aa4",
   "metadata": {},
   "outputs": [
    {
     "data": {
      "text/plain": [
       "Dataset({\n",
       "    features: ['instruction', 'input', 'output', 'prompt'],\n",
       "    num_rows: 50\n",
       "})"
      ]
     },
     "execution_count": 4,
     "metadata": {},
     "output_type": "execute_result"
    }
   ],
   "source": [
    "ds_sample = dataset.take(1000).shuffle(seed=1998).take(50)\n",
    "ds_sample = Dataset.from_list(list(ds_sample))\n",
    "ds_sample"
   ]
  },
  {
   "cell_type": "code",
   "execution_count": 5,
   "id": "463c8acc-e675-41b5-a273-507fa8d573f3",
   "metadata": {},
   "outputs": [],
   "source": [
    "SYSTEM_PROMPT = \\\n",
    "\"\"\"\n",
    "Implement the code for the provided spec.\n",
    "\n",
    "- Your goal is be efficient and Nkeep the code short.\n",
    "- The code should be understandable just by the naming and the flow.\n",
    "- There should be no comments.\n",
    "- Only output the code, nothing else.\n",
    "\"\"\".strip()"
   ]
  },
  {
   "cell_type": "code",
   "execution_count": 6,
   "id": "4ae98a9e-f1c8-4a1c-a54f-428f2fd7802c",
   "metadata": {},
   "outputs": [],
   "source": [
    "def gen_code(llm, tokenizer, batch):\n",
    "    messages = [[{\"role\": \"system\", \"content\": SYSTEM_PROMPT},\n",
    "                {\"role\": \"user\", \"content\": item}] for item in batch]\n",
    "    prompts = [tokenizer.apply_chat_template(item, tokenize=False, add_generation_prompt=True) for item in messages]\n",
    "\n",
    "    outputs = llm.generate(prompts, SamplingParams(temperature=0.75, top_p=0.9, max_tokens=2048))\n",
    "\n",
    "    return {\"code_prompt\": list(batch), \"generated_code\": [output.outputs[0].text.strip() for output in outputs]}"
   ]
  },
  {
   "cell_type": "code",
   "execution_count": 7,
   "id": "38b02e59-e987-4105-bee7-8fd9a9109f53",
   "metadata": {},
   "outputs": [],
   "source": [
    "model_id = \"meta-llama/Llama-3.1-8B-Instruct\""
   ]
  },
  {
   "cell_type": "code",
   "execution_count": 8,
   "id": "da710ba4-810a-427f-83c0-2708931953e1",
   "metadata": {},
   "outputs": [],
   "source": [
    "tokenizer = AutoTokenizer.from_pretrained(model_id)"
   ]
  },
  {
   "cell_type": "code",
   "execution_count": 9,
   "id": "13efe097-6a72-4872-b01a-12cf72df7de2",
   "metadata": {},
   "outputs": [
    {
     "name": "stdout",
     "output_type": "stream",
     "text": [
      "INFO 12-08 13:47:30 config.py:350] This model supports multiple tasks: {'generate', 'embedding'}. Defaulting to 'generate'.\n",
      "INFO 12-08 13:47:30 llm_engine.py:249] Initializing an LLM engine (v0.6.4.post1) with config: model='meta-llama/Llama-3.1-8B-Instruct', speculative_config=None, tokenizer='meta-llama/Llama-3.1-8B-Instruct', skip_tokenizer_init=False, tokenizer_mode=auto, revision=None, override_neuron_config=None, tokenizer_revision=None, trust_remote_code=False, dtype=torch.bfloat16, max_seq_len=4096, download_dir=None, load_format=LoadFormat.AUTO, tensor_parallel_size=1, pipeline_parallel_size=1, disable_custom_all_reduce=False, quantization=None, enforce_eager=False, kv_cache_dtype=auto, quantization_param_path=None, device_config=cuda, decoding_config=DecodingConfig(guided_decoding_backend='outlines'), observability_config=ObservabilityConfig(otlp_traces_endpoint=None, collect_model_forward_time=False, collect_model_execute_time=False), seed=0, served_model_name=meta-llama/Llama-3.1-8B-Instruct, num_scheduler_steps=1, chunked_prefill_enabled=False multi_step_stream_outputs=True, enable_prefix_caching=False, use_async_output_proc=True, use_cached_outputs=False, chat_template_text_format=string, mm_processor_kwargs=None, pooler_config=None)\n",
      "INFO 12-08 13:47:30 selector.py:135] Using Flash Attention backend.\n",
      "INFO 12-08 13:47:31 model_runner.py:1072] Starting to load model meta-llama/Llama-3.1-8B-Instruct...\n",
      "INFO 12-08 13:47:31 weight_utils.py:243] Using model weights format ['*.safetensors']\n"
     ]
    },
    {
     "data": {
      "application/vnd.jupyter.widget-view+json": {
       "model_id": "9094b5d4c2914d01aeb5298e55fcf38d",
       "version_major": 2,
       "version_minor": 0
      },
      "text/plain": [
       "Loading safetensors checkpoint shards:   0% Completed | 0/4 [00:00<?, ?it/s]\n"
      ]
     },
     "metadata": {},
     "output_type": "display_data"
    },
    {
     "name": "stdout",
     "output_type": "stream",
     "text": [
      "INFO 12-08 13:47:41 model_runner.py:1077] Loading model weights took 14.9888 GB\n",
      "INFO 12-08 13:47:43 worker.py:232] Memory profiling results: total_gpu_memory=23.69GiB initial_memory_usage=16.05GiB peak_torch_memory=16.19GiB memory_usage_post_profile=16.07GiB non_torch_memory=1.07GiB kv_cache_size=4.06GiB gpu_memory_utilization=0.90\n",
      "INFO 12-08 13:47:43 gpu_executor.py:113] # GPU blocks: 2077, # CPU blocks: 2048\n",
      "INFO 12-08 13:47:43 gpu_executor.py:117] Maximum concurrency for 4096 tokens per request: 8.11x\n",
      "INFO 12-08 13:47:45 model_runner.py:1400] Capturing cudagraphs for decoding. This may lead to unexpected consequences if the model is not static. To run the model in eager mode, set 'enforce_eager=True' or use '--enforce-eager' in the CLI.\n",
      "INFO 12-08 13:47:45 model_runner.py:1404] If out-of-memory error occurs during cudagraph capture, consider decreasing `gpu_memory_utilization` or switching to eager mode. You can also reduce the `max_num_seqs` as needed to decrease memory usage.\n",
      "INFO 12-08 13:47:55 model_runner.py:1518] Graph capturing finished in 10 secs, took 0.85 GiB\n"
     ]
    }
   ],
   "source": [
    "llm = LLM(model=model_id, max_model_len=4096)"
   ]
  },
  {
   "cell_type": "code",
   "execution_count": 11,
   "id": "5a693dc4-8545-4a57-ad50-b45a78ba53a9",
   "metadata": {},
   "outputs": [
    {
     "name": "stderr",
     "output_type": "stream",
     "text": [
      "Parameter 'function'=<function <lambda> at 0x7f4cc02f0220> of the transform datasets.arrow_dataset.Dataset._map_single couldn't be hashed properly, a random hash was used instead. Make sure your transforms and parameters are serializable with pickle or dill for the dataset fingerprinting and caching to work. If you reuse this transform, the caching mechanism will consider it to be different from the previous calls and recompute everything. This warning is only showed once. Subsequent hashing failures won't be showed.\n"
     ]
    },
    {
     "data": {
      "application/vnd.jupyter.widget-view+json": {
       "model_id": "89cdf87b487147b7b3037a73ce88e81c",
       "version_major": 2,
       "version_minor": 0
      },
      "text/plain": [
       "Map:   0%|          | 0/50 [00:00<?, ? examples/s]"
      ]
     },
     "metadata": {},
     "output_type": "display_data"
    },
    {
     "name": "stderr",
     "output_type": "stream",
     "text": [
      "\n",
      "Processed prompts:   0%| | 0/32 [00:00<?, ?it/s, est. speed input: 0.00 toks/s, \u001b[A\n",
      "Processed prompts:   3%| | 1/32 [00:01<00:45,  1.47s/it, est. speed input: 71.25\u001b[A\n",
      "Processed prompts:   9%| | 3/32 [00:01<00:14,  2.06it/s, est. speed input: 178.7\u001b[A\n",
      "Processed prompts:  12%|▏| 4/32 [00:01<00:09,  2.82it/s, est. speed input: 230.2\u001b[A\n",
      "Processed prompts:  19%|▏| 6/32 [00:02<00:06,  4.24it/s, est. speed input: 307.1\u001b[A\n",
      "Processed prompts:  25%|▎| 8/32 [00:02<00:04,  5.73it/s, est. speed input: 380.5\u001b[A\n",
      "Processed prompts:  31%|▎| 10/32 [00:02<00:03,  6.50it/s, est. speed input: 430.\u001b[A\n",
      "Processed prompts:  38%|▍| 12/32 [00:03<00:04,  4.75it/s, est. speed input: 413.\u001b[A\n",
      "Processed prompts:  41%|▍| 13/32 [00:03<00:03,  5.12it/s, est. speed input: 427.\u001b[A\n",
      "Processed prompts:  47%|▍| 15/32 [00:03<00:03,  4.28it/s, est. speed input: 417.\u001b[A\n",
      "Processed prompts:  50%|▌| 16/32 [00:04<00:03,  4.02it/s, est. speed input: 415.\u001b[A\n",
      "Processed prompts:  53%|▌| 17/32 [00:04<00:03,  3.84it/s, est. speed input: 410.\u001b[A\n",
      "Processed prompts:  62%|▋| 20/32 [00:04<00:02,  5.79it/s, est. speed input: 454.\u001b[A\n",
      "Processed prompts:  69%|▋| 22/32 [00:05<00:01,  5.66it/s, est. speed input: 462.\u001b[A\n",
      "Processed prompts:  72%|▋| 23/32 [00:05<00:01,  4.54it/s, est. speed input: 446.\u001b[A\n",
      "Processed prompts:  75%|▊| 24/32 [00:06<00:02,  3.54it/s, est. speed input: 423.\u001b[A\n",
      "Processed prompts:  78%|▊| 25/32 [00:06<00:02,  3.43it/s, est. speed input: 420.\u001b[A\n",
      "Processed prompts:  81%|▊| 26/32 [00:06<00:01,  3.42it/s, est. speed input: 417.\u001b[A\n",
      "Processed prompts:  84%|▊| 27/32 [00:06<00:01,  4.05it/s, est. speed input: 425.\u001b[A\n",
      "Processed prompts:  88%|▉| 28/32 [00:07<00:01,  3.45it/s, est. speed input: 415.\u001b[A\n",
      "Processed prompts:  91%|▉| 29/32 [00:08<00:01,  2.13it/s, est. speed input: 380.\u001b[A\n",
      "Processed prompts:  94%|▉| 30/32 [00:10<00:01,  1.07it/s, est. speed input: 312.\u001b[A\n",
      "Processed prompts:  97%|▉| 31/32 [00:20<00:03,  3.76s/it, est. speed input: 157.\u001b[A\n",
      "Processed prompts: 100%|█| 32/32 [00:24<00:00,  1.29it/s, est. speed input: 137.\u001b[A\n",
      "\n",
      "Processed prompts:   0%| | 0/18 [00:00<?, ?it/s, est. speed input: 0.00 toks/s, \u001b[A\n",
      "Processed prompts:   6%| | 1/18 [00:01<00:19,  1.12s/it, est. speed input: 84.08\u001b[A\n",
      "Processed prompts:  11%| | 2/18 [00:01<00:09,  1.74it/s, est. speed input: 146.8\u001b[A\n",
      "Processed prompts:  17%|▏| 3/18 [00:01<00:05,  2.69it/s, est. speed input: 207.2\u001b[A\n",
      "Processed prompts:  28%|▎| 5/18 [00:02<00:05,  2.59it/s, est. speed input: 224.6\u001b[A\n",
      "Processed prompts:  33%|▎| 6/18 [00:02<00:03,  3.07it/s, est. speed input: 258.7\u001b[A\n",
      "Processed prompts:  39%|▍| 7/18 [00:03<00:05,  1.90it/s, est. speed input: 214.6\u001b[A\n",
      "Processed prompts:  44%|▍| 8/18 [00:03<00:05,  1.98it/s, est. speed input: 215.0\u001b[A\n",
      "Processed prompts:  50%|▌| 9/18 [00:04<00:04,  2.12it/s, est. speed input: 222.9\u001b[A\n",
      "Processed prompts:  56%|▌| 10/18 [00:04<00:02,  2.70it/s, est. speed input: 241.\u001b[A\n",
      "Processed prompts:  61%|▌| 11/18 [00:04<00:02,  3.17it/s, est. speed input: 257.\u001b[A\n",
      "Processed prompts:  67%|▋| 12/18 [00:04<00:01,  3.70it/s, est. speed input: 270.\u001b[A\n",
      "Processed prompts:  72%|▋| 13/18 [00:04<00:01,  4.44it/s, est. speed input: 285.\u001b[A\n",
      "Processed prompts:  78%|▊| 14/18 [00:05<00:01,  2.21it/s, est. speed input: 255.\u001b[A\n",
      "Processed prompts:  83%|▊| 15/18 [00:07<00:02,  1.50it/s, est. speed input: 227.\u001b[A\n",
      "Processed prompts:  89%|▉| 16/18 [00:08<00:01,  1.27it/s, est. speed input: 210.\u001b[A\n",
      "Processed prompts:  94%|▉| 17/18 [00:10<00:01,  1.23s/it, est. speed input: 173.\u001b[A\n",
      "Processed prompts: 100%|█| 18/18 [00:16<00:00,  1.07it/s, est. speed input: 112.\u001b[A\n"
     ]
    }
   ],
   "source": [
    "ds_generated = ds_sample.map(lambda batch: gen_code(llm, tokenizer, batch), batched=True, batch_size=32, input_columns=['instruction'],\n",
    "                             remove_columns=ds_sample.column_names)"
   ]
  },
  {
   "cell_type": "code",
   "execution_count": 12,
   "id": "5d23145b-c6c1-4e4e-a3bb-7ccbacfae92e",
   "metadata": {},
   "outputs": [
    {
     "data": {
      "application/vnd.jupyter.widget-view+json": {
       "model_id": "570f5502abec404685ce402136b0c733",
       "version_major": 2,
       "version_minor": 0
      },
      "text/plain": [
       "Uploading the dataset shards:   0%|          | 0/1 [00:00<?, ?it/s]"
      ]
     },
     "metadata": {},
     "output_type": "display_data"
    },
    {
     "data": {
      "application/vnd.jupyter.widget-view+json": {
       "model_id": "b0c725b88a0a4e2a878b615a4f77cede",
       "version_major": 2,
       "version_minor": 0
      },
      "text/plain": [
       "Creating parquet from Arrow format:   0%|          | 0/1 [00:00<?, ?ba/s]"
      ]
     },
     "metadata": {},
     "output_type": "display_data"
    },
    {
     "data": {
      "text/plain": [
       "CommitInfo(commit_url='https://huggingface.co/datasets/amang1802/python_alpaca_generated_sample/commit/588c3541f48174bd5b8c7b22c218f3e978dadbc1', commit_message='Upload dataset', commit_description='', oid='588c3541f48174bd5b8c7b22c218f3e978dadbc1', pr_url=None, repo_url=RepoUrl('https://huggingface.co/datasets/amang1802/python_alpaca_generated_sample', endpoint='https://huggingface.co', repo_type='dataset', repo_id='amang1802/python_alpaca_generated_sample'), pr_revision=None, pr_num=None)"
      ]
     },
     "execution_count": 12,
     "metadata": {},
     "output_type": "execute_result"
    }
   ],
   "source": [
    "ds_generated.push_to_hub('python_alpaca_generated_sample')"
   ]
  },
  {
   "cell_type": "code",
   "execution_count": null,
   "id": "6ae3235d-abd4-4964-a61a-24bd3d2f0354",
   "metadata": {},
   "outputs": [],
   "source": []
  }
 ],
 "metadata": {
  "kernelspec": {
   "display_name": "Python 3 (ipykernel)",
   "language": "python",
   "name": "python3"
  },
  "language_info": {
   "codemirror_mode": {
    "name": "ipython",
    "version": 3
   },
   "file_extension": ".py",
   "mimetype": "text/x-python",
   "name": "python",
   "nbconvert_exporter": "python",
   "pygments_lexer": "ipython3",
   "version": "3.11.10"
  }
 },
 "nbformat": 4,
 "nbformat_minor": 5
}
